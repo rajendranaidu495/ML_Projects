{
  "nbformat": 4,
  "nbformat_minor": 0,
  "metadata": {
    "colab": {
      "name": "FinalProject_ANLY699_RajendraNaiduMannam_(1).ipynb",
      "provenance": [],
      "collapsed_sections": [],
      "toc_visible": true,
      "include_colab_link": true
    },
    "kernelspec": {
      "display_name": "Python 3",
      "language": "python",
      "name": "python3"
    },
    "language_info": {
      "codemirror_mode": {
        "name": "ipython",
        "version": 3
      },
      "file_extension": ".py",
      "mimetype": "text/x-python",
      "name": "python",
      "nbconvert_exporter": "python",
      "pygments_lexer": "ipython3",
      "version": "3.7.3"
    }
  },
  "cells": [
    {
      "cell_type": "markdown",
      "metadata": {
        "id": "view-in-github",
        "colab_type": "text"
      },
      "source": [
        "<a href=\"https://colab.research.google.com/github/rajendranaidu495/ANLY699Project/blob/master/FinalProject_ANLY699_RajendraNaiduMannam_(1).ipynb\" target=\"_parent\"><img src=\"https://colab.research.google.com/assets/colab-badge.svg\" alt=\"Open In Colab\"/></a>"
      ]
    },
    {
      "cell_type": "code",
      "metadata": {
        "colab_type": "code",
        "id": "xi3In7KGf2Wp",
        "colab": {}
      },
      "source": [
        "import os\n",
        "import pandas as pd\n",
        "import numpy as np\n",
        "import nltk\n",
        "from nltk.corpus import stopwords\n",
        "from nltk.stem.porter import PorterStemmer\n",
        "from nltk.stem import WordNetLemmatizer "
      ],
      "execution_count": 2,
      "outputs": []
    },
    {
      "cell_type": "code",
      "metadata": {
        "colab_type": "code",
        "id": "ROOhn2QHF0ec",
        "colab": {}
      },
      "source": [
        "#pip install pymagnitude==0.1.34\n",
        "#!pip install pymagnitude"
      ],
      "execution_count": null,
      "outputs": []
    },
    {
      "cell_type": "code",
      "metadata": {
        "id": "2u23cSoPpnD0",
        "colab_type": "code",
        "colab": {}
      },
      "source": [
        "#!pip install tensorflow-hub"
      ],
      "execution_count": null,
      "outputs": []
    },
    {
      "cell_type": "code",
      "metadata": {
        "colab_type": "code",
        "id": "mVKkOqZlLzn3",
        "colab": {}
      },
      "source": [
        "#import pymysql\n",
        "\n",
        "#!pip install results"
      ],
      "execution_count": null,
      "outputs": []
    },
    {
      "cell_type": "code",
      "metadata": {
        "colab_type": "code",
        "id": "KoDEbYuw35dU",
        "colab": {}
      },
      "source": [
        "class TFHubExtract(object):\n",
        "    def __init__(self, path=\"http://tfhub.dev/google/universal-sentence-encoder/4\"):\n",
        "        import tensorflow as tf\n",
        "        import tensorflow_hub as hub\n",
        "        # Create graph and finalize (finalizing optional but recommended).\n",
        "        g = tf.Graph()\n",
        "        with g.as_default():\n",
        "            # We will be feeding 1D tensors of text into the graph.\n",
        "            self.text_input = tf.placeholder(dtype=tf.string, shape=[None])\n",
        "            embed = hub.Module(path)\n",
        "            self.embedded_text = embed(self.text_input)\n",
        "            init_op = tf.group([tf.global_variables_initializer(), tf.tables_initializer()])\n",
        "        g.finalize()\n",
        "        self.session = tf.Session(graph=g)\t\n",
        "        self.session.run(init_op)\n",
        "\n",
        "    def predict(self, x):\n",
        "        return self.session.run(self.embedded_text, feed_dict={self.text_input: x})\n",
        "    \n",
        "    \n",
        "class MeanEmbeddingVector(object):\n",
        "    def __init__(self):\n",
        "        from pymagnitude import Magnitude\n",
        "        #self.model = Magnitude(r\"C:\\Users\\rajendranaidu\\Downloads\\GoogleNews-vectors-negative300.magnitude\")\n",
        "        self.model = Magnitude(\"/content/sample_data/GoogleNews-vectors-negative300.magnitude\")    \n",
        "\n",
        "    def predict(self, X):\n",
        "        return np.array([np.mean(self.model.query(x), axis=0) for x in X])"
      ],
      "execution_count": 3,
      "outputs": []
    },
    {
      "cell_type": "code",
      "metadata": {
        "colab_type": "code",
        "id": "nnwYunm7f2Wx",
        "colab": {}
      },
      "source": [
        "### read data\n",
        "def read_df(filename):\n",
        "    columns = ['sentiment','id','date','flag','user','text']\n",
        "    df = pd.read_csv(filename,encoding='ISO-8859-1',names=columns)\n",
        "    df = df[['text', 'sentiment']]\n",
        "    return df\n",
        "\n",
        "## pre-processing\n",
        "def pre_process(df):\n",
        "    ### tokenize text\n",
        "    #df['text'] = df['text'].apply(lambda x: nltk.word_tokenize(x.lower()))\n",
        "    df['text'] = df['text'].apply(lambda x: x.lower().split(' '))\n",
        "    \n",
        "    ## import nltk\n",
        "    import nltk\n",
        "    nltk.download('stopwords')\n",
        "    nltk.download('punkt')\n",
        "    nltk.download('wordnet')\n",
        "    \n",
        "    ## apply stemming\n",
        "    from nltk.stem.porter import PorterStemmer\n",
        "    ps_stemmer = PorterStemmer()\n",
        "    df['text'] = df['text'].apply(lambda x: [ps_stemmer.stem(y) for y in x])\n",
        "\n",
        "    ## apply lemmatization\n",
        "    from nltk.stem import WordNetLemmatizer \n",
        "    lemmatizer = WordNetLemmatizer()\n",
        "    df['text'] = df['text'].apply(lambda x: [lemmatizer.lemmatize(y) for y in x])\n",
        "    \n",
        "\n",
        "    ## covert tokenized words back to string\n",
        "    #df['text'] = df['text'].apply(lambda x: ' '.join(x))\n",
        "    \n",
        "    return df"
      ],
      "execution_count": 4,
      "outputs": []
    },
    {
      "cell_type": "code",
      "metadata": {
        "colab_type": "code",
        "id": "4TclEKhjf2W2",
        "colab": {
          "base_uri": "https://localhost:8080/",
          "height": 119
        },
        "outputId": "3f22011c-e1ce-4ab2-b1a3-55f08f254b08"
      },
      "source": [
        "#df_all = pre_process(read_df(r\"C:\\Users\\rajendranaidu\\OneDrive - Harrisburg University\\HU Courses\\ANLY 699_90_O_2020Summer_ Applied Project in Analytics\\FinalProject_ANLY699\\training.csv\"))\n",
        "df_all = pre_process(read_df(\"/content/sample_data/training.csv\"))\n",
        "\n",
        "df = df_all.drop(df_all.index[50000:1550000])\n",
        "\n",
        "### Train, Test splits\n",
        "from sklearn.model_selection import train_test_split\n",
        "x_train, x_test, y_train, y_test = train_test_split(df['text'].tolist(), df['sentiment'].tolist(), test_size=0.3)"
      ],
      "execution_count": 12,
      "outputs": [
        {
          "output_type": "stream",
          "text": [
            "[nltk_data] Downloading package stopwords to /root/nltk_data...\n",
            "[nltk_data]   Package stopwords is already up-to-date!\n",
            "[nltk_data] Downloading package punkt to /root/nltk_data...\n",
            "[nltk_data]   Package punkt is already up-to-date!\n",
            "[nltk_data] Downloading package wordnet to /root/nltk_data...\n",
            "[nltk_data]   Package wordnet is already up-to-date!\n"
          ],
          "name": "stdout"
        }
      ]
    },
    {
      "cell_type": "code",
      "metadata": {
        "colab_type": "code",
        "id": "cyHCducqfJiq",
        "colab": {
          "base_uri": "https://localhost:8080/",
          "height": 34
        },
        "outputId": "063295d2-7f24-4a4c-e4c8-cc16f8211450"
      },
      "source": [
        "print(df.shape)"
      ],
      "execution_count": 13,
      "outputs": [
        {
          "output_type": "stream",
          "text": [
            "(100000, 2)\n"
          ],
          "name": "stdout"
        }
      ]
    },
    {
      "cell_type": "code",
      "metadata": {
        "colab_type": "code",
        "id": "3ztRMV1z35de",
        "colab": {}
      },
      "source": [
        "def get_features(x_train, x_test,type_='BOW'):\n",
        "    if type_ == 'BOW':\n",
        "        from sklearn.feature_extraction.text import TfidfVectorizer\n",
        "        vect = TfidfVectorizer(tokenizer=lambda x: x, preprocessor=lambda x: x, stop_words='english', max_features=5000)\n",
        "        vect.fit(x_train)\n",
        "        X_train_BOW = vect.transform(x_train)\n",
        "        X_test_BOW  = vect.transform(x_test)\n",
        "        return X_train_BOW, X_test_BOW\n",
        "    elif type_ == 'W2V':\n",
        "        model = MeanEmbeddingVector()\n",
        "        X_train_W2V = model.predict(x_train)\n",
        "        X_test_W2V = model.predict(x_test)\n",
        "        return X_train_W2V, X_test_W2V\n",
        "    elif type_ == 'USE':\n",
        "        #tfhub = TFHubExtract()\n",
        "        x_train = [\" \".join(x) for x in x_train]\n",
        "        x_test = [\" \".join(x) for x in x_test]\n",
        "        import tensorflow_hub as hub\n",
        "\n",
        "        embed = hub.load(\"https://tfhub.dev/google/universal-sentence-encoder/4\")\n",
        "        x_train_USE = embed(x_train)\n",
        "        x_test_USE = embed(x_test)\n",
        "        return x_train_USE,x_test_USE"
      ],
      "execution_count": 14,
      "outputs": []
    },
    {
      "cell_type": "code",
      "metadata": {
        "colab_type": "code",
        "id": "9A04fTt0f2XV",
        "colab": {}
      },
      "source": [
        "def disc_model(x_train, x_test, y_train, y_test):\n",
        "    from sklearn.linear_model import LogisticRegression\n",
        "    clf = LogisticRegression(max_iter=10000) \n",
        "    clf.fit(x_train, y_train)\n",
        "    y_pred = clf.predict(x_test)\n",
        "\n",
        "    from sklearn.metrics import classification_report\n",
        "    from sklearn.metrics import confusion_matrix\n",
        "    import sklearn.metrics as metrics\n",
        "\n",
        "    print(classification_report(y_test, y_pred))\n",
        "    cf_matrix = confusion_matrix(y_test, y_pred)\n",
        "    #print(metrics.accuracy_score(y_test, y_pred))\n",
        "\n",
        "    \n",
        "    import seaborn as sns\n",
        "    sns.heatmap(cf_matrix/np.sum(cf_matrix), annot=True, fmt='.2%', cmap='Blues')"
      ],
      "execution_count": 15,
      "outputs": []
    },
    {
      "cell_type": "code",
      "metadata": {
        "colab_type": "code",
        "id": "C5ro0cs4scfb",
        "colab": {
          "base_uri": "https://localhost:8080/",
          "height": 105
        },
        "outputId": "cb654425-6b0d-43a5-bfe2-6e296955fae6"
      },
      "source": [
        "## Experiment\n",
        "x_train_BOW, x_test_BOW = get_features(x_train, x_test)\n",
        "#x_train_W2V, x_test_W2V = get_features(x_train, x_test, type_='W2V')\n",
        "x_train_USE, x_test_USE = get_features(x_train, x_test, type_='USE')"
      ],
      "execution_count": 16,
      "outputs": [
        {
          "output_type": "stream",
          "text": [
            "/usr/local/lib/python3.6/dist-packages/sklearn/feature_extraction/text.py:507: UserWarning: The parameter 'token_pattern' will not be used since 'tokenizer' is not None'\n",
            "  warnings.warn(\"The parameter 'token_pattern' will not be used\"\n",
            "/usr/local/lib/python3.6/dist-packages/sklearn/feature_extraction/text.py:385: UserWarning: Your stop_words may be inconsistent with your preprocessing. Tokenizing the stop words generated tokens ['b', 'c', 'd', 'e', 'f', 'g', 'h', 'k', 'l', 'm', 'n', 'o', 'p', 'r', 's', 't', 'u', 'v', 'w', 'x', 'y'] not in stop_words.\n",
            "  'stop_words.' % sorted(inconsistent))\n"
          ],
          "name": "stderr"
        }
      ]
    },
    {
      "cell_type": "code",
      "metadata": {
        "colab_type": "code",
        "id": "mEcnbEkj35d1",
        "colab": {
          "base_uri": "https://localhost:8080/",
          "height": 418
        },
        "outputId": "c3beac3a-9e50-4749-d6b1-f1594cdac002"
      },
      "source": [
        "disc_model(x_train_BOW, x_test_BOW, y_train, y_test)"
      ],
      "execution_count": 17,
      "outputs": [
        {
          "output_type": "stream",
          "text": [
            "              precision    recall  f1-score   support\n",
            "\n",
            "           0       0.77      0.73      0.75     15081\n",
            "           4       0.74      0.78      0.76     14919\n",
            "\n",
            "    accuracy                           0.76     30000\n",
            "   macro avg       0.76      0.76      0.76     30000\n",
            "weighted avg       0.76      0.76      0.76     30000\n",
            "\n"
          ],
          "name": "stdout"
        },
        {
          "output_type": "display_data",
          "data": {
            "image/png": "[encoded data removed]",
            "text/plain": [
              "<Figure size 432x288 with 2 Axes>"
            ]
          },
          "metadata": {
            "tags": [],
            "needs_background": "light"
          }
        }
      ]
    },
    {
      "cell_type": "code",
      "metadata": {
        "id": "6-WVFl8zpnE8",
        "colab_type": "code",
        "colab": {
          "base_uri": "https://localhost:8080/",
          "height": 418
        },
        "outputId": "37844a15-bbbf-4062-ee75-7efb5f28b981"
      },
      "source": [
        "disc_model(x_train_USE, x_test_USE, y_train, y_test)"
      ],
      "execution_count": 18,
      "outputs": [
        {
          "output_type": "stream",
          "text": [
            "              precision    recall  f1-score   support\n",
            "\n",
            "           0       0.76      0.76      0.76     15081\n",
            "           4       0.76      0.76      0.76     14919\n",
            "\n",
            "    accuracy                           0.76     30000\n",
            "   macro avg       0.76      0.76      0.76     30000\n",
            "weighted avg       0.76      0.76      0.76     30000\n",
            "\n"
          ],
          "name": "stdout"
        },
        {
          "output_type": "display_data",
          "data": {
            "image/png": "[encoded data removed]",
            "text/plain": [
              "<Figure size 432x288 with 2 Axes>"
            ]
          },
          "metadata": {
            "tags": [],
            "needs_background": "light"
          }
        }
      ]
    }
  ]
}